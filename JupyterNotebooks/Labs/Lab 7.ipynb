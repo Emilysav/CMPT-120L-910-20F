{
 "metadata": {
  "language_info": {
   "codemirror_mode": {
    "name": "ipython",
    "version": 3
   },
   "file_extension": ".py",
   "mimetype": "text/x-python",
   "name": "python",
   "nbconvert_exporter": "python",
   "pygments_lexer": "ipython3",
   "version": "3.9.0-final"
  },
  "orig_nbformat": 2,
  "kernelspec": {
   "name": "python3",
   "display_name": "Python 3"
  }
 },
 "nbformat": 4,
 "nbformat_minor": 2,
 "cells": [
  {
   "cell_type": "code",
   "execution_count": 11,
   "metadata": {},
   "outputs": [
    {
     "output_type": "stream",
     "name": "stdout",
     "text": [
      "👍\n🐀\n:trollface:\n🐑\n"
     ]
    }
   ],
   "source": [
    "import emoji\n",
    "\n",
    "print(emoji.emojize(':thumbsup:', use_aliases=True))\n",
    "print(emoji.emojize(':rat:', use_aliases=True))\n",
    "print(emoji.emojize(':trollface:', use_aliases=True))#i fell for it wow\n",
    "print(emoji.emojize(':sheep:', use_aliases=True))\n",
    "\n"
   ]
  },
  {
   "cell_type": "code",
   "execution_count": 12,
   "metadata": {},
   "outputs": [
    {
     "output_type": "stream",
     "name": "stdout",
     "text": [
      ":rat:\n:thumbsup:\n:sheep:\n"
     ]
    }
   ],
   "source": [
    "import emoji\n",
    "\n",
    "print(emoji.demojize('🐀', use_aliases=True))\n",
    "print(emoji.demojize('👍', use_aliases=True))\n",
    "print(emoji.demojize('🐑', use_aliases=True))"
   ]
  },
  {
   "source": [
    "https://xkcd.com/360/"
   ],
   "cell_type": "markdown",
   "metadata": {}
  }
 ]
}