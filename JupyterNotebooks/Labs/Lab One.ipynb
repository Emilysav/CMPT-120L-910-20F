{
 "metadata": {
  "language_info": {
   "codemirror_mode": {
    "name": "ipython",
    "version": 3
   },
   "file_extension": ".py",
   "mimetype": "text/x-python",
   "name": "python",
   "nbconvert_exporter": "python",
   "pygments_lexer": "ipython3",
   "version": "3.8.5-final"
  },
  "orig_nbformat": 2,
  "kernelspec": {
   "name": "python_defaultSpec_1599584551968",
   "display_name": "Python 3.6.10 64-bit"
  }
 },
 "nbformat": 4,
 "nbformat_minor": 2,
 "cells": [
  {
   "cell_type": "markdown",
   "metadata": {},
   "source": [
    "# Lab One\n",
    "---\n",
    "\n",
    "Ok for this lab we're going to reiterate a lot of the things that we went over in class.\n",
    "\n",
    "Our Goals are:\n",
    "- Defining variables\n",
    "- Using math\n",
    "- Manipulating variables\n",
    "- Changing data types\n",
    "- Playing with lists"
   ]
  },
  {
   "cell_type": "code",
   "execution_count": 10,
   "metadata": {},
   "outputs": [],
   "source": [
    "# Define 4 variables, one of each type listed: [Integer, String, Boolean, Float]. Print all 4."
   ]
  },
  {
   "cell_type": "code",
   "execution_count": 11,
   "metadata": {
    "tags": []
   },
   "outputs": [
    {
     "output_type": "stream",
     "name": "stdout",
     "text": "Hello Nice to meet you,\nI'm Emily Saviano\nI am 19.49 years old.\n2001\nTrue\n"
    }
   ],
   "source": [
    "# String\n",
    "\"hope ur having a good day\"\n",
    "Greeting = 'Nice to meet you,'\n",
    "This_Student_Name = \"Emily Saviano\"\n",
    "Student_Majoe = \"Undecided\"\n",
    "\n",
    "# Intiger\n",
    "Student_years_alive = 19\n",
    "Student_birth_year = 2001\n",
    "\n",
    "# Boolean\n",
    "Is_sophomore = True\n",
    "\n",
    "# Float\n",
    "Exact_Age_in_years = 19.49\n",
    "\n",
    "print(\"Hello\" , Greeting)\n",
    "print(\"I'm\" , This_Student_Name)\n",
    "print(\"I am\" , Exact_Age_in_years , 'years old.')\n",
    "print(Student_birth_year)\n",
    "print(Is_sophomore)\n",
    "\n",
    "\n"
   ]
  },
  {
   "cell_type": "code",
   "execution_count": 12,
   "metadata": {},
   "outputs": [],
   "source": [
    "# With whatever variables you'd like demonstrate the following: [Addition, Subtraction, Division, Multiplication, Modulo]. Print all 5."
   ]
  },
  {
   "cell_type": "code",
   "execution_count": 13,
   "metadata": {
    "tags": []
   },
   "outputs": [
    {
     "output_type": "stream",
     "name": "stdout",
     "text": "10\n1\n3.6666666666666665\n3\n50\n15\n"
    }
   ],
   "source": [
    "print(5+5)\n",
    "print(5-4)\n",
    "print(11/3)\n",
    "print(11//3)\n",
    "print(5*10)\n",
    "print(75%20)"
   ]
  },
  {
   "cell_type": "code",
   "execution_count": 14,
   "metadata": {},
   "outputs": [],
   "source": [
    "# Using 2 variables and addition print the number 57\n"
   ]
  },
  {
   "cell_type": "code",
   "execution_count": 15,
   "metadata": {
    "tags": []
   },
   "outputs": [
    {
     "output_type": "stream",
     "name": "stdout",
     "text": "57\n"
    }
   ],
   "source": [
    "input1 = 20\n",
    "input2 = 37\n",
    "\n",
    "print(input1+input2)"
   ]
  },
  {
   "cell_type": "code",
   "execution_count": 16,
   "metadata": {
    "tags": []
   },
   "outputs": [
    {
     "output_type": "stream",
     "name": "stdout",
     "text": "37\n10\n299.99\n"
    },
    {
     "output_type": "execute_result",
     "data": {
      "text/plain": "True"
     },
     "metadata": {},
     "execution_count": 16
    }
   ],
   "source": [
    "# Change this variable to a string and print\n",
    "number_into_string = 37\n",
    "new_number_into_string = '37'\n",
    "print(new_number_into_string)\n",
    "# Change this variable to a integer and print\n",
    "string_into_number = '10'\n",
    "new_string_into_number = 10\n",
    "print(new_string_into_number)\n",
    "# Change this variable to a float and print\n",
    "string_into_float = '299.99'\n",
    "new_string_into_float = 299.99\n",
    "print(new_string_into_float)\n",
    "# Change this variable to a boolean and print\n",
    "number_into_boolean = 37\n",
    "37==37\n",
    "\n",
    "\n"
   ]
  },
  {
   "cell_type": "code",
   "execution_count": null,
   "metadata": {},
   "outputs": [],
   "source": []
  },
  {
   "cell_type": "code",
   "execution_count": 17,
   "metadata": {},
   "outputs": [],
   "source": [
    "# Make me a list of any type"
   ]
  },
  {
   "cell_type": "code",
   "execution_count": 18,
   "metadata": {
    "tags": []
   },
   "outputs": [
    {
     "output_type": "stream",
     "name": "stdout",
     "text": "['freshman', 'sophomore', 'junior', 'senior'] [18, 19, 20, 21, 22]\n"
    }
   ],
   "source": [
    "years_of_college = [\"freshman\", 'sophomore', 'junior', 'senior']\n",
    "typical_ages_in_college = [18, 19, 20, 21, 22]\n",
    "print(years_of_college, typical_ages_in_college)"
   ]
  },
  {
   "cell_type": "code",
   "execution_count": null,
   "metadata": {},
   "outputs": [],
   "source": []
  },
  {
   "cell_type": "code",
   "execution_count": null,
   "metadata": {},
   "outputs": [],
   "source": []
  }
 ]
}